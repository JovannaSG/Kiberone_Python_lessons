{
 "cells": [
  {
   "cell_type": "markdown",
   "metadata": {},
   "source": [
    "### Разминка"
   ]
  },
  {
   "cell_type": "markdown",
   "metadata": {},
   "source": [
    "#### Задача 1"
   ]
  },
  {
   "cell_type": "markdown",
   "metadata": {},
   "source": [
    "Написать программу в которой будет две фунцкции, которые возвращают значения.\n",
    "\n",
    "Первая функция будет вычислять площадь прямоугольника.\n",
    "\n",
    "Вторая будет вычислять чему равен периметр прямоугольника.\n",
    "\n",
    "Длины сторон пользователь вводит с клавиатуры, также учитывайте, что **_числа не могут быть меньше 0_**"
   ]
  },
  {
   "cell_type": "markdown",
   "metadata": {},
   "source": [
    "### Библиотеки и модули или как можно решить задачу с помощью одного импорта"
   ]
  },
  {
   "cell_type": "markdown",
   "metadata": {},
   "source": [
    "#### Модули в Python"
   ]
  },
  {
   "cell_type": "markdown",
   "metadata": {},
   "source": [
    "`Модуль` — это файл, содержащий определения функций, классов и переменных, а также исполняемый код. Модули в Python обычно имеют расширение .py. Они позволяют структурировать код и делить его на мелкие, легко управляемые части.\n",
    "\n",
    "Просто уже написаный файл, в котором есть код, который выполняет какую-то задачу\n",
    "\n",
    "Чтобы использовать модуль, его нужно импортировать с помощью инструкции `import`. Например, импортируем модуль `math`, который предоставляет математические функции:"
   ]
  },
  {
   "cell_type": "markdown",
   "metadata": {},
   "source": [
    "Например напишем программу которая проверяет выполняется ли основное тригонометрическое тождество, то есть:\n",
    "$$ \\sin^{2}\\alpha + \\cos^{2}\\alpha = 1"
   ]
  },
  {
   "cell_type": "code",
   "execution_count": null,
   "metadata": {},
   "outputs": [
    {
     "name": "stdout",
     "output_type": "stream",
     "text": [
      "Тождество выполняется\n"
     ]
    }
   ],
   "source": [
    "import math\n",
    "# sin - синус\n",
    "# cos - косинус\n",
    "# pow - возведение в степень (англ. power)\n",
    "\n",
    "alpha: float = float(input(\"Введите угол альфа: \"))\n",
    "\n",
    "if math.pow(math.sin(alpha), 2) + math.pow(math.cos(alpha), 2) == 1:\n",
    "    print(\"Тождество выполняется\")\n",
    "else:\n",
    "    print(\"Тождество не выпоняется\")"
   ]
  },
  {
   "cell_type": "markdown",
   "metadata": {},
   "source": [
    "Отмечу, что мы перед sin, cos, pow писали имя библиотеки. Это не очень удобно в некоторых случаях и затрудняет чтение кода.\n",
    "\n",
    "Поэтому можно изменить сам импорт библиотеки"
   ]
  },
  {
   "cell_type": "markdown",
   "metadata": {},
   "source": [
    "Как мы раньше обозначали возведение в степень?"
   ]
  },
  {
   "cell_type": "code",
   "execution_count": null,
   "metadata": {},
   "outputs": [
    {
     "name": "stdout",
     "output_type": "stream",
     "text": [
      "Тождетсво выполняется\n"
     ]
    }
   ],
   "source": [
    "# порядок импортирования может быть любой\n",
    "from math import sin, cos, pow\n",
    "\n",
    "\n",
    "alpha: float = float(input(\"Введите угол альфа: \"))\n",
    "\n",
    "if sin(alpha)**2 + cos(alpha)**2 == 1:\n",
    "    print(\"Тождетсво выполняется\")\n",
    "else:\n",
    "    print(\"Тождество не выполняется\")"
   ]
  },
  {
   "cell_type": "markdown",
   "metadata": {},
   "source": [
    "Кто заметил подвох в задании?\n",
    "<details>\n",
    "<summary>Ответ</summary>\n",
    "Подвох в том, что это тождество всегда выполняется, потом что в формуле сказано, что подставив любое число вместо <b>alpha</b> мы всегда будем получать 1\n",
    "</details>"
   ]
  },
  {
   "cell_type": "markdown",
   "metadata": {},
   "source": [
    "#### Задача 1"
   ]
  },
  {
   "cell_type": "markdown",
   "metadata": {},
   "source": [
    "Напишите программу, которая решает квадратное уравнение вида:\n",
    "$$ ax^{2} + bx + c = 0"
   ]
  },
  {
   "cell_type": "code",
   "execution_count": null,
   "metadata": {},
   "outputs": [],
   "source": [
    "import math\n",
    "\n",
    "# Ввод коэффициентов\n",
    "a = float(input(\"Введите коэффициент a: \"))\n",
    "b = float(input(\"Введите коэффициент b: \"))\n",
    "c = float(input(\"Введите коэффициент c: \"))\n",
    "\n",
    "# Вычисление дискриминанта\n",
    "D = b**2 - 4*a*c\n",
    "\n",
    "# Проверка дискриминанта и нахождение корней\n",
    "if D > 0:\n",
    "    x1 = (-b + math.sqrt(D)) / (2*a)\n",
    "    x2 = (-b - math.sqrt(D)) / (2*a)\n",
    "    print(\"Корни уравнения:\", x1, \"и\", x2)\n",
    "elif D == 0:\n",
    "    x = -b / (2*a)\n",
    "    print(\"Уравнение имеет один корень:\", x)\n",
    "else:\n",
    "    print(\"Уравнение не имеет действительных корней\")"
   ]
  },
  {
   "cell_type": "markdown",
   "metadata": {},
   "source": [
    "### Опционально сделать с ребятами свой модуль"
   ]
  },
  {
   "cell_type": "markdown",
   "metadata": {},
   "source": [
    "Создадим файл Fraction.py, где напишем две функции, одна складывает дроби, другая умножает. Потом импортируем этот файл в main и вызовим функции"
   ]
  }
 ],
 "metadata": {
  "kernelspec": {
   "display_name": ".venv",
   "language": "python",
   "name": "python3"
  },
  "language_info": {
   "codemirror_mode": {
    "name": "ipython",
    "version": 3
   },
   "file_extension": ".py",
   "mimetype": "text/x-python",
   "name": "python",
   "nbconvert_exporter": "python",
   "pygments_lexer": "ipython3",
   "version": "3.12.4"
  }
 },
 "nbformat": 4,
 "nbformat_minor": 2
}

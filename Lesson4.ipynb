{
 "cells": [
  {
   "cell_type": "markdown",
   "metadata": {},
   "source": [
    "### Разминка"
   ]
  },
  {
   "cell_type": "markdown",
   "metadata": {},
   "source": [
    "#### Задача 1"
   ]
  },
  {
   "cell_type": "markdown",
   "metadata": {},
   "source": [
    "Написать программу, в которой с помощью цикла `for` посчитать сумму числе от 1 до 1000."
   ]
  },
  {
   "cell_type": "code",
   "execution_count": null,
   "metadata": {},
   "outputs": [],
   "source": []
  },
  {
   "cell_type": "markdown",
   "metadata": {},
   "source": [
    "#### Задача 2"
   ]
  },
  {
   "cell_type": "markdown",
   "metadata": {},
   "source": [
    "Задача из ОГЭ\n",
    "\n",
    "Напишите программу, которая в последовательности целых чисел определяет их количество и сумму четных чисел. Программа получает на вход целые числа, количество введенных чисел неизвестно, последовательность чисел заканчивается числом 0 (0  — признак окончания ввода, не входит в последовательность).\n",
    "\n",
    "Количество чисел не превышает 1000. Введенные числа по модулю не превышают 30 000. Программа должна вывести два числа: длину последовательности и сумму четных чисел.\n",
    "\n",
    "![Задача из ОГЭ](./docs/Задача_.png)"
   ]
  },
  {
   "cell_type": "code",
   "execution_count": null,
   "metadata": {},
   "outputs": [
    {
     "name": "stdout",
     "output_type": "stream",
     "text": [
      "3\n",
      "2\n"
     ]
    }
   ],
   "source": [
    "sum: int = 0\n",
    "num: int = 0\n",
    "a: int = int(input(\"Введите число: \"))\n",
    "while a != 0:\n",
    "    num += 1\n",
    "    if a % 2 == 0:\n",
    "        sum += a\n",
    "    a = int(input(\"Введите число: \"))\n",
    "print(num)\n",
    "print(sum)"
   ]
  },
  {
   "cell_type": "markdown",
   "metadata": {},
   "source": [
    "### Списки"
   ]
  },
  {
   "cell_type": "markdown",
   "metadata": {},
   "source": [
    "Для работы с `наборами данных` Python предоставляет такие встроенные типы как `списки`, `кортежи` и `словари`.\n",
    "\n",
    "Список (`list`) представляет тип данных, который хранит набор или `последовательность элементов`. Во многих языках программирования есть аналогичная структура данных, которая называется `массив`.\n",
    "\n",
    "Хорошая аналогия - массив(список) это поезд с именем и вагонами, у каждого вагона есть свой номер, начинается нумерация с 0.\n",
    "\n",
    "Для создания списка применяются квадратные скобки [], внутри которых через запятую перечисляются элементы списка. Например, определим следующие списки:"
   ]
  },
  {
   "cell_type": "code",
   "execution_count": null,
   "metadata": {},
   "outputs": [],
   "source": [
    "numbers: list[int] = [1, 2, 3, 4, 5]\n",
    "people: list[str] = [\"Tom\", \"Sam\", \"Bob\"]"
   ]
  },
  {
   "cell_type": "markdown",
   "metadata": {},
   "source": [
    "Также для создания списка можно использовать функцию-конструктор `list()`:\n",
    "```\n",
    "numbers2: list = list()\n",
    "```"
   ]
  },
  {
   "cell_type": "markdown",
   "metadata": {},
   "source": [
    "Список необязательно должен содержать только однотипные объекты. Мы можем поместить в один и тот же список одновременно строки, числа, объекты других типов данных:"
   ]
  },
  {
   "cell_type": "code",
   "execution_count": null,
   "metadata": {},
   "outputs": [],
   "source": [
    "objects: list = [1, 2.6, \"Hello\", True]"
   ]
  },
  {
   "cell_type": "markdown",
   "metadata": {},
   "source": [
    "#### Обращение к элементам списка"
   ]
  },
  {
   "cell_type": "markdown",
   "metadata": {},
   "source": [
    "Для обращения к элементам списка надо использовать `индексы`, которые представляют `номер элемента` в `списка`. `Индексы начинаются с нуля`. То есть `первый элемент` будет иметь `индекс 0`, `второй элемент` - `индекс 1` и так далее.\n",
    "\n",
    "Для обращения к `элементам с конца` можно использовать `отрицательные индексы`, `начиная с -1`. То есть у последнего элемента будет индекс -1, у предпоследнего - -2 и так далее."
   ]
  },
  {
   "cell_type": "code",
   "execution_count": null,
   "metadata": {},
   "outputs": [
    {
     "name": "stdout",
     "output_type": "stream",
     "text": [
      "Tom\n",
      "Sam\n",
      "Bob\n",
      "Sam\n",
      "Bob\n",
      "Tom\n"
     ]
    }
   ],
   "source": [
    "#                      0      1      2\n",
    "people: list[str] = [\"Tom\", \"Sam\", \"Bob\"]\n",
    "#                     -3      -2     -1\n",
    "\n",
    "print(people[0])  # Tom\n",
    "print(people[1])  # Sam\n",
    "print(people[2])  # Bob\n",
    "\n",
    "print(people[-2])   # Sam\n",
    "print(people[-1])   # Bob\n",
    "print(people[-3])   # Tom"
   ]
  },
  {
   "cell_type": "markdown",
   "metadata": {},
   "source": [
    "Для изменения элемента списка достаточно присвоить ему новое значение:"
   ]
  },
  {
   "cell_type": "code",
   "execution_count": null,
   "metadata": {},
   "outputs": [
    {
     "name": "stdout",
     "output_type": "stream",
     "text": [
      "Mike\n",
      "['Tom', 'Mike', 'Bob']\n"
     ]
    }
   ],
   "source": [
    "#                      0      1      2\n",
    "people: list[str] = [\"Tom\", \"Sam\", \"Bob\"]\n",
    "\n",
    "people[1] = \"Mike\"  # изменение второго элемента\n",
    "print(people[1])    # Mike\n",
    "print(people)       # [\"Tom\", \"Mike\", \"Bob\"]"
   ]
  },
  {
   "cell_type": "markdown",
   "metadata": {},
   "source": [
    "#### Перебор элементов"
   ]
  },
  {
   "cell_type": "markdown",
   "metadata": {},
   "source": [
    "Для перебора элементов можно использовать как цикл for, так и цикл while.\n",
    "Перебор с помощью цикла for:"
   ]
  },
  {
   "cell_type": "code",
   "execution_count": null,
   "metadata": {},
   "outputs": [
    {
     "name": "stdout",
     "output_type": "stream",
     "text": [
      "Tom\n",
      "Sam\n",
      "Bob\n"
     ]
    }
   ],
   "source": [
    "people: list[str] = [\"Tom\", \"Sam\", \"Bob\"]\n",
    "for person in people:\n",
    "    print(person)"
   ]
  },
  {
   "cell_type": "markdown",
   "metadata": {},
   "source": [
    "Также можно обращаться по индексу к элементам"
   ]
  },
  {
   "cell_type": "code",
   "execution_count": 15,
   "metadata": {},
   "outputs": [
    {
     "name": "stdout",
     "output_type": "stream",
     "text": [
      "Tom\n",
      "Sam\n",
      "Bob\n"
     ]
    }
   ],
   "source": [
    "people: list[str] = [\"Tom\", \"Sam\", \"Bob\"]\n",
    "for i in range(3):\n",
    "    print(people[i])"
   ]
  },
  {
   "cell_type": "markdown",
   "metadata": {},
   "source": [
    "#### Задача 1"
   ]
  },
  {
   "cell_type": "markdown",
   "metadata": {},
   "source": [
    "Что выведется в консоль при выполнении следующего кода?"
   ]
  },
  {
   "cell_type": "code",
   "execution_count": null,
   "metadata": {},
   "outputs": [],
   "source": [
    "objects: list[str] = [1, 2.6, \"Hello\", True]\n",
    "for e in objects:\n",
    "    print(e)"
   ]
  },
  {
   "cell_type": "markdown",
   "metadata": {},
   "source": [
    "#### Получение части списка"
   ]
  },
  {
   "cell_type": "markdown",
   "metadata": {},
   "source": [
    "Если необходимо получить какую-то определенную часть списка, то мы можем применять специальный синтаксис, который может принимать следующие формы:\n",
    "\n",
    "`list[:end]`: через параметр `end` передается индекс элемента, `до которого` нужно копировать список\n",
    "\n",
    "`list[start:end]`: параметр `start` указывает на индекс элемента, `начиная с которого` надо скопировать элементы\n",
    "\n",
    "`list[start:end:step]`: параметр `step` указывает на `шаг, через который будут копироваться элементы из списка`. `По умолчанию` этот параметр равен `1`."
   ]
  },
  {
   "cell_type": "code",
   "execution_count": null,
   "metadata": {},
   "outputs": [
    {
     "name": "stdout",
     "output_type": "stream",
     "text": [
      "['Tom', 'Bob', 'Alice']\n",
      "['Bob', 'Alice']\n",
      "['Bob', 'Sam', 'Bill']\n"
     ]
    }
   ],
   "source": [
    "#                      0      1       2       3      4      5\n",
    "people: list[str] = [\"Tom\", \"Bob\", \"Alice\", \"Sam\", \"Tim\", \"Bill\"]\n",
    "\n",
    "# с 0 по 3\n",
    "slice_people1 = people[:3]\n",
    "print(slice_people1)  # [\"Tom\", \"Bob\", \"Alice\"]\n",
    "\n",
    "# с 1 по 3\n",
    "slice_people2 = people[1:3]\n",
    "print(slice_people2)  # [\"Bob\", \"Alice\"]\n",
    "\n",
    "# с 1 по 6 с шагом 2\n",
    "slice_people3 = people[1:6:2]\n",
    "print(slice_people3)  # [\"Bob\", \"Sam\", \"Bill\"]"
   ]
  },
  {
   "cell_type": "markdown",
   "metadata": {},
   "source": [
    "Можно использовать `отрицательные индексы`, тогда отсчет будет `идти с конца`, например, -1 - предпоследний, -2 - третий сконца и так далее."
   ]
  },
  {
   "cell_type": "code",
   "execution_count": null,
   "metadata": {},
   "outputs": [
    {
     "name": "stdout",
     "output_type": "stream",
     "text": [
      "['Tom', 'Bob', 'Alice', 'Sam', 'Tim']\n",
      "['Sam', 'Tim']\n"
     ]
    }
   ],
   "source": [
    "#                      -5     -4     -3      -2     -1      0\n",
    "people: list[str] = [\"Tom\", \"Bob\", \"Alice\", \"Sam\", \"Tim\", \"Bill\"]\n",
    "\n",
    "# с предпоследнего по нулевой\n",
    "slice_people1 = people[:-1]\n",
    "print(slice_people1)  # [\"Tom\", \"Bob\", \"Alice\", \"Sam\", \"Tim\"]\n",
    "\n",
    "# с третьего с конца по предпоследний\n",
    "slice_people2 = people[-3:-1]\n",
    "print(slice_people2)  # [ \"Sam\", \"Tim\"]"
   ]
  },
  {
   "cell_type": "markdown",
   "metadata": {},
   "source": [
    "#### Задача 2"
   ]
  },
  {
   "cell_type": "markdown",
   "metadata": {},
   "source": [
    "Создайте список из целых чисел, длиной 6, и выведите элементы с 2 до 5\n",
    "\n",
    "<details>\n",
    "  <summary>Ответ</summary>\n",
    "  <code>\n",
    "  #                0  1   2  3   4  5\n",
    "  numbers: list = [2, 3, -5, 1, 66, 7]\n",
    "  print(numbers[2:5])\n",
    "  </code>\n",
    "</details>"
   ]
  },
  {
   "cell_type": "code",
   "execution_count": null,
   "metadata": {},
   "outputs": [],
   "source": []
  },
  {
   "cell_type": "markdown",
   "metadata": {},
   "source": [
    "#### Методы и функции по работе со списками"
   ]
  },
  {
   "cell_type": "markdown",
   "metadata": {},
   "source": [
    "Для управления элементами списки имеют целый ряд методов. Некоторые из них:\n",
    "\n",
    "* `append(item)`: добавляет элемент item в конец списка\n",
    "\n",
    "* `remove(item)`: удаляет элемент item. Удаляется только первое вхождение элемента. Если элемент не найден, генерирует исключение ValueError\n",
    "\n",
    "* `index(item)`: возвращает индекс элемента item. Если элемент не найден, генерирует исключение ValueError\n",
    "\n",
    "* `count(item)`: возвращает количество вхождений элемента item в список\n",
    "\n",
    "* `reverse()`: расставляет все элементы в списке в обратном порядке\n",
    "\n",
    "* `len(list)`: возвращает длину списка\n",
    "\n",
    "* `min(list)`: возвращает наименьший элемент списка\n",
    "\n",
    "* `max(list)`: возвращает наибольший элемент списка"
   ]
  },
  {
   "cell_type": "markdown",
   "metadata": {},
   "source": [
    "#### Добавление и удаление элементов"
   ]
  },
  {
   "cell_type": "code",
   "execution_count": 10,
   "metadata": {},
   "outputs": [
    {
     "name": "stdout",
     "output_type": "stream",
     "text": [
      "['Tom', 'Bob', 'Alice']\n",
      "0\n",
      "['Tom', 'Bob']\n"
     ]
    }
   ],
   "source": [
    "people: list = [\"Tom\", \"Bob\"]\n",
    " \n",
    "# добавляем в конец списка\n",
    "people.append(\"Alice\")  # [\"Tom\", \"Bob\", \"Alice\"]\n",
    "print(people)\n",
    "\n",
    "# получаем индекс элемента\n",
    "index_of_tom = people.index(\"Tom\")\n",
    "print(index_of_tom)\n",
    "\n",
    "# удаляем элемент \"Alice\"\n",
    "people.remove(\"Alice\")  # [\"Bill\", \"Bob\", \"Mike\"]\n",
    "print(people)  # [\"Bill\", \"Bob\", \"Mike\"]"
   ]
  },
  {
   "cell_type": "markdown",
   "metadata": {},
   "source": [
    "#### Задача 3"
   ]
  },
  {
   "cell_type": "markdown",
   "metadata": {},
   "source": [
    "1. Создайте список из любых элементов.\n",
    "2. Добавьте в конец число 2.456.\n",
    "3. Выведите в консоль получившийся список.\n",
    "4. Удалите второй элемент списка.\n",
    "5. Выведите в консоль получившийся список.\n",
    "6. Добавьте элемент \"abc\" в конец списка\n",
    "7. Добавьте элемент 345345 в конец списка\n",
    "8. Получите и выведите в консоль индекс элемента \"abc\""
   ]
  },
  {
   "cell_type": "code",
   "execution_count": null,
   "metadata": {},
   "outputs": [],
   "source": []
  },
  {
   "cell_type": "markdown",
   "metadata": {},
   "source": [
    "#### Подсчет вхождений"
   ]
  },
  {
   "cell_type": "markdown",
   "metadata": {},
   "source": [
    "Если необходимо узнать, сколько раз в списке присутствует тот или иной элемент, то можно применить метод `count()`:"
   ]
  },
  {
   "cell_type": "code",
   "execution_count": 11,
   "metadata": {},
   "outputs": [
    {
     "name": "stdout",
     "output_type": "stream",
     "text": [
      "3\n"
     ]
    }
   ],
   "source": [
    "people: list = [\"Tom\", \"Bob\", \"Alice\", \"Tom\", \"Bill\", \"Tom\"]\n",
    "\n",
    "people_count = people.count(\"Tom\")\n",
    "print(people_count)  # 3"
   ]
  },
  {
   "cell_type": "markdown",
   "metadata": {},
   "source": [
    "#### Минимальное и максимальное значения"
   ]
  },
  {
   "cell_type": "markdown",
   "metadata": {},
   "source": [
    "Встроенный функции Python `min()` и `max()` позволяют найти минимальное и максимальное значения соответственно:"
   ]
  },
  {
   "cell_type": "code",
   "execution_count": 12,
   "metadata": {},
   "outputs": [
    {
     "name": "stdout",
     "output_type": "stream",
     "text": [
      "1\n",
      "21\n"
     ]
    }
   ],
   "source": [
    "numbers: list = [9, 21, 12, 1, 3, 15, 18]\n",
    "min_number: int = min(numbers)\n",
    "print(min_number)  # 1\n",
    "max_number: int = max(numbers)\n",
    "print(max_number)  # 21"
   ]
  },
  {
   "cell_type": "code",
   "execution_count": 13,
   "metadata": {},
   "outputs": [
    {
     "name": "stdout",
     "output_type": "stream",
     "text": [
      "1\n",
      "21\n"
     ]
    }
   ],
   "source": [
    "numbers: list = [9, 21, 12, 1, 3, 15, 18]\n",
    "print(min(numbers))  # 1\n",
    "print(max(numbers))  # 21"
   ]
  },
  {
   "cell_type": "markdown",
   "metadata": {},
   "source": [
    "#### Получение длины списка"
   ]
  },
  {
   "cell_type": "markdown",
   "metadata": {},
   "source": [
    "Для получения длины списка ипользуется метод `len()`."
   ]
  },
  {
   "cell_type": "code",
   "execution_count": 14,
   "metadata": {},
   "outputs": [
    {
     "name": "stdout",
     "output_type": "stream",
     "text": [
      "7\n"
     ]
    }
   ],
   "source": [
    "numbers: list = [9, 21, 12, 1, 3, 15, 18]\n",
    "len_numbers: int = len(numbers)\n",
    "print(len_numbers)"
   ]
  },
  {
   "cell_type": "code",
   "execution_count": 17,
   "metadata": {},
   "outputs": [
    {
     "name": "stdout",
     "output_type": "stream",
     "text": [
      "9 21 12 1 3 15 18 "
     ]
    }
   ],
   "source": [
    "numbers: list = [9, 21, 12, 1, 3, 15, 18]\n",
    "for i in range(len(numbers)):\n",
    "    print(numbers[i], end=\" \")"
   ]
  },
  {
   "cell_type": "markdown",
   "metadata": {},
   "source": [
    "#### Задача 4"
   ]
  },
  {
   "cell_type": "markdown",
   "metadata": {},
   "source": [
    "Напишите программу, которая записывает дублирующиеся числа из одного списка в другой и выводит список с сохраненными дубликатами чисел.\n",
    "\n",
    "Дублирующиемся числами назоваем два одинаковых числа идущих подряд\n",
    "\n",
    "Пример работы:\n",
    "```\n",
    "Начальный список:  [10, 10, 20, 20, 30, 40, 50, 50]\n",
    "После удаления дубликатов:  [10, 20, 50]\n",
    "```\n",
    "\n",
    "<details>\n",
    "<summary>Ответ</summary>\n",
    "list1: list[int] = [10, 10, 20, 20, 30, 40, 50, 50]\n",
    "list2: list[int] = []\n",
    "\n",
    "for i in range(len(list1) - 1):\n",
    "    if list1[i] == list1[i + 1]:\n",
    "        list2.append(list1[i])\n",
    "\n",
    "print (\"Начальный список: \", list1)\n",
    "print (\"После удаления дублей: \", list2)\n",
    "</details>"
   ]
  },
  {
   "cell_type": "code",
   "execution_count": null,
   "metadata": {},
   "outputs": [],
   "source": []
  },
  {
   "cell_type": "markdown",
   "metadata": {},
   "source": [
    "#### Задача 5"
   ]
  },
  {
   "cell_type": "markdown",
   "metadata": {},
   "source": [
    "Напишите программу, которая вывовит в консоль список, состоящий из квадратов чисел от 1 до 15.\n",
    "\n",
    "Квадрат числа это умножение числа самого на себя: 4 * 4, 7 * 7 и тд"
   ]
  },
  {
   "cell_type": "code",
   "execution_count": null,
   "metadata": {},
   "outputs": [],
   "source": []
  },
  {
   "cell_type": "markdown",
   "metadata": {},
   "source": [
    "#### Задача 6"
   ]
  },
  {
   "cell_type": "markdown",
   "metadata": {},
   "source": [
    "Описание: Напишите программу, которая принимает строку и выводит ее в обратном порядке.\n",
    "\n",
    "<details>\n",
    "<summary>Ответ 1</summary>\n",
    "<p>\n",
    "s = \"abcdef\"\n",
    "print(s[::-1])\n",
    "</p>\n",
    "</details>\n",
    "\n",
    "<details>\n",
    "<summary>Ответ 2</summary>\n",
    "<p>\n",
    "s = \"abcdef\"\n",
    "print(s[::-1])\n",
    "</p>\n",
    "</details>"
   ]
  },
  {
   "cell_type": "code",
   "execution_count": null,
   "metadata": {},
   "outputs": [],
   "source": []
  },
  {
   "cell_type": "markdown",
   "metadata": {},
   "source": [
    "### Словари"
   ]
  },
  {
   "cell_type": "markdown",
   "metadata": {},
   "source": [
    "Словарь (**dictionary**) в языке Python хранит коллекцию элементов, где каждый элемент имеет уникальный ключ и ассоциированое с ним некоторое значение.\n",
    "\n",
    "Определение словаря имеет следующий синтаксис:\n",
    "```\n",
    "d: dict = {\n",
    "    ключ1: значение1,\n",
    "    ключ2: значение2,\n",
    "    ....\n",
    "}\n",
    "```"
   ]
  },
  {
   "cell_type": "code",
   "execution_count": null,
   "metadata": {},
   "outputs": [],
   "source": [
    "users: dict = {\n",
    "    1: \"Tom\",\n",
    "    2: \"Bob\",\n",
    "    3: \"Bill\"\n",
    "}\n",
    "\n",
    "user_info: dict = {\n",
    "    \"user_id\": \"583c3ac3f38e84297c002546\",\n",
    "    \"email\": \"test@test.com\",\n",
    "    \"name\": \"test@test.com\",\n",
    "    \"given_name\": \"Hello\",\n",
    "    \"family_name\": \"Test\",\n",
    "    \"nickname\": \"test\",\n",
    "    \"last_ip\": \"94.121.163.63\",\n",
    "    \"logins_count\": 15,\n",
    "    \"created_at\": \"2016-11-28T14:10:11.338Z\",\n",
    "    \"updated_at\": \"2016-12-02T01:17:29.310Z\",\n",
    "    \"last_login\": \"2016-12-02T01:17:29.310Z\",\n",
    "    \"email_verified\": True\n",
    "}"
   ]
  },
  {
   "cell_type": "markdown",
   "metadata": {},
   "source": [
    "#### Получение и изменение элементов словаря"
   ]
  },
  {
   "cell_type": "markdown",
   "metadata": {},
   "source": [
    "Для обращения к элементам словаря после его названия в квадратных скобках указывается ключ элемента:\n",
    "```\n",
    "dictionary[ключ]\n",
    "```\n",
    "\n",
    "Например, получим и изменим элементы в словаре:"
   ]
  },
  {
   "cell_type": "code",
   "execution_count": 2,
   "metadata": {},
   "outputs": [
    {
     "name": "stdout",
     "output_type": "stream",
     "text": [
      "Tom\n",
      "Bob Smith\n"
     ]
    }
   ],
   "source": [
    "users: dict = {\n",
    "    \"1\": \"Tom\",\n",
    "    \"2\": \"Bob\",\n",
    "    \"3\": \"Alice\"\n",
    "}\n",
    "\n",
    "# получаем элемент с ключом \"+11111111\"\n",
    "print(users[\"1\"])  # Tom\n",
    "\n",
    "# установка значения элемента с ключом \"+33333333\"\n",
    "users[\"3\"] = \"Bob Smith\"\n",
    "print(users[\"3\"])  # Bob Smith"
   ]
  },
  {
   "cell_type": "markdown",
   "metadata": {},
   "source": [
    "#### Удаление"
   ]
  },
  {
   "cell_type": "markdown",
   "metadata": {},
   "source": [
    "Для удаления элемента по ключу применяется оператор `del`:"
   ]
  },
  {
   "cell_type": "code",
   "execution_count": 3,
   "metadata": {},
   "outputs": [
    {
     "name": "stdout",
     "output_type": "stream",
     "text": [
      "{'+11111111': 'Tom', '+33333333': 'Bob'}\n"
     ]
    }
   ],
   "source": [
    "users: dict = {\n",
    "    \"+11111111\": \"Tom\",\n",
    "    \"+33333333\": \"Bob\",\n",
    "    \"+55555555\": \"Alice\"\n",
    "}\n",
    "\n",
    "del users[\"+55555555\"]\n",
    "print(users)  # { \"+11111111\": \"Tom\", \"+33333333\": \"Bob\"}"
   ]
  },
  {
   "cell_type": "markdown",
   "metadata": {},
   "source": [
    "#### Задача 1"
   ]
  },
  {
   "cell_type": "markdown",
   "metadata": {},
   "source": [
    "Написать программу, которая считает сумму карты в игре БлекДжек (рус. 21).\n",
    "\n",
    "Карты со значением **2, 3, 4, 5, 6, 7, 8, 9, 10** имеют тот же вес, что и их значение\n",
    "\n",
    "Карты со значением **J (валет), Q (дама), K (король)** имеют вес 10\n",
    "\n",
    "**Туз (Ace, A)** может принимать значение **11** или **1**, значение определяется следующим образом:\n",
    "* Если можно прибавить **11** и в сумме получится число **НЕ** больше 21, тогда туз имеет значение **11**, иначе **1**\n",
    "\n",
    "<details>\n",
    "<summary>Ответ</summary>\n",
    "cards_values: dict = {\n",
    "    \"2\": 2,\n",
    "    \"3\": 3,\n",
    "    \"4\": 4,\n",
    "    \"5\": 5,\n",
    "    \"6\": 6,\n",
    "    \"7\": 7,\n",
    "    \"8\": 8,\n",
    "    \"9\": 9,\n",
    "    \"10\": 10,\n",
    "    \"J\": 10,\n",
    "    \"Q\": 10,\n",
    "    \"K\": 10,\n",
    "    \"A\": 11\n",
    "}\n",
    "\n",
    "cards: list = [4, \"K\", \"A\"]\n",
    "sum: int = 0\n",
    "for card in cards:\n",
    "    if card != \"A\":\n",
    "        sum += cards_values[str(card)]\n",
    "    elif card == \"A\" and sum + 11 <= 21:\n",
    "        sum += 11\n",
    "    else:\n",
    "        sum += 1\n",
    "print(sum)\n",
    "</details>"
   ]
  },
  {
   "cell_type": "code",
   "execution_count": null,
   "metadata": {},
   "outputs": [
    {
     "name": "stdout",
     "output_type": "stream",
     "text": [
      "15\n"
     ]
    }
   ],
   "source": []
  },
  {
   "cell_type": "markdown",
   "metadata": {},
   "source": [
    "### Вопросы по уроку"
   ]
  },
  {
   "cell_type": "markdown",
   "metadata": {},
   "source": [
    "1. Что такое список (массив)?\n",
    "2. Как мне вывести только второй элемент списка?\n",
    "3. Как мне вывести элементы списка с 3 по 6 с шагом 1? list[?:?:?]\n",
    "4. Как мне удалить элемент из списка?\n",
    "5. Как мне получить длину списка?\n",
    "6. Как мне получить максимальное и минимальное значение в списке?\n",
    "7. Что такое словарь?"
   ]
  }
 ],
 "metadata": {
  "kernelspec": {
   "display_name": ".venv",
   "language": "python",
   "name": "python3"
  },
  "language_info": {
   "codemirror_mode": {
    "name": "ipython",
    "version": 3
   },
   "file_extension": ".py",
   "mimetype": "text/x-python",
   "name": "python",
   "nbconvert_exporter": "python",
   "pygments_lexer": "ipython3",
   "version": "3.12.4"
  }
 },
 "nbformat": 4,
 "nbformat_minor": 2
}

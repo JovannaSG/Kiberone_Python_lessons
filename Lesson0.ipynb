{
 "cells": [
  {
   "cell_type": "markdown",
   "metadata": {},
   "source": [
    "Опционально: знакомство с visual studio code и основами терминала\n",
    "\n",
    "Работать можно в vscode, pycharm, google collab"
   ]
  },
  {
   "cell_type": "markdown",
   "metadata": {},
   "source": [
    "### Ссылки на материалы\n",
    "\n",
    "* [Metanit.com](https://metanit.com/python/tutorial/)\n",
    "* [hexlet.io](https://ru.hexlet.io/programs/python-basics-free)"
   ]
  },
  {
   "cell_type": "markdown",
   "metadata": {},
   "source": [
    "### Ниже записаны все ключевые слова в языке Python"
   ]
  },
  {
   "cell_type": "markdown",
   "metadata": {},
   "source": [
    "* `False      await      else       import     pass`\n",
    "* `None       break      except     in         raise`\n",
    "* `True       class      finally    is         return`\n",
    "* `and        continue   for        lambda     try`\n",
    "* `as         def        from       nonlocal   while`\n",
    "* `assert     del        global     not        with`\n",
    "* `async      elif       if         or         yield`"
   ]
  },
  {
   "cell_type": "markdown",
   "metadata": {},
   "source": [
    "### Мы будем использовать следующие слова"
   ]
  },
  {
   "cell_type": "markdown",
   "metadata": {},
   "source": [
    "* Для типа данных boolean\n",
    "    + True\n",
    "    + False\n",
    "* Для оператора ветвления\n",
    "    + if\n",
    "    + elif\n",
    "    + else\n",
    "* Для обозначения циклов\n",
    "    + for\n",
    "    + while\n",
    "* Для обозначения функций\n",
    "    + def\n",
    "    + lambda"
   ]
  },
  {
   "cell_type": "markdown",
   "metadata": {},
   "source": [
    "### Введение в написание программ"
   ]
  },
  {
   "cell_type": "markdown",
   "metadata": {},
   "source": [
    "Программа на языке Python состоит из набора инструкций. Каждая инструкция помещается на новую строку. \n",
    "\n",
    "Например:"
   ]
  },
  {
   "cell_type": "code",
   "execution_count": null,
   "metadata": {},
   "outputs": [],
   "source": [
    "s: int = int(input(\"num1: \")) + int(input(\"num2: \"))\n",
    "print(s)"
   ]
  },
  {
   "cell_type": "markdown",
   "metadata": {},
   "source": [
    "Большую роль в Python играют отступы. Неправильно поставленный отступ фактически является ошибкой. Например, в следующем случае мы получим ошибку, хотя код будет практически аналогичен приведенному выше:"
   ]
  },
  {
   "cell_type": "code",
   "execution_count": null,
   "metadata": {},
   "outputs": [],
   "source": [
    "s: int = int(input(\"num1: \")) + int(input(\"num2: \"))\n",
    "    print(s)"
   ]
  },
  {
   "cell_type": "markdown",
   "metadata": {},
   "source": [
    "Поэтому стоит помещать новые инструкции сначала строки. В этом одно из важных отличий пайтона от других языков программирования, как C# или JavaScript.\n",
    "\n",
    "Однако стоит учитывать, что некоторые конструкции языка могут состоять из нескольких строк. Например, условная конструкция if:"
   ]
  },
  {
   "cell_type": "code",
   "execution_count": null,
   "metadata": {},
   "outputs": [],
   "source": [
    "if 1 < 2:\n",
    "    print(\"Hello\")"
   ]
  },
  {
   "cell_type": "markdown",
   "metadata": {},
   "source": [
    "Здесь уже отсуп нужен, так как мы отделяем тело `if` от другого кода."
   ]
  },
  {
   "cell_type": "markdown",
   "metadata": {},
   "source": [
    "### Регистрозависимость\n",
    "\n",
    "Python - регистрозависимый язык, поэтому выражения `print` и `Print` или `PRINT` представляют разные выражения. И если вместо метода print для вывода на консоль мы попробуем использовать метод Print:"
   ]
  },
  {
   "cell_type": "code",
   "execution_count": null,
   "metadata": {},
   "outputs": [],
   "source": [
    "PRINT(\"Hello World\")"
   ]
  },
  {
   "cell_type": "markdown",
   "metadata": {},
   "source": [
    "### Комментарии\n",
    "\n",
    "Для отметки, что делает тот или иной участок кода, применяются комментарии. При трансляции и выполнении программы интерпретатор игнорирует комментарии, поэтому они не оказывают никакого влияния на работу программы. Комментарии в Python бывают блочные и строчные.\n",
    "\n",
    "Строчные коментарии предваряются знаком решетки - #. Они могут располагаться на отдельной строке:"
   ]
  },
  {
   "cell_type": "code",
   "execution_count": null,
   "metadata": {},
   "outputs": [],
   "source": [
    "# Вывод на консоль \n",
    "# сообщения Hello World\n",
    "print(\"Hello World\")"
   ]
  },
  {
   "cell_type": "markdown",
   "metadata": {},
   "source": [
    "Любой набор символов после знака # представляет комментарий. То есть в примере выше первые две строки кода являются комментариями.\n",
    "\n",
    "Также они могут располагаться на той же строке, что и инструкции языка, после выполняемых инструкций:"
   ]
  },
  {
   "cell_type": "code",
   "execution_count": null,
   "metadata": {},
   "outputs": [],
   "source": [
    "print(\"Hello World\")  # Вывод сообщения на консоль"
   ]
  },
  {
   "cell_type": "markdown",
   "metadata": {},
   "source": [
    "**НО**\n",
    "\n",
    "**рекомендую использовать чаще первый вариант, т.е. писать комментарии на отдельной строке**"
   ]
  },
  {
   "cell_type": "markdown",
   "metadata": {},
   "source": [
    "В блочных коментариях до и после текста комментария ставятся три одинарные кавычки: `'''текст комментария'''` или `\"\"\"текст комментария\"\"\"`\n",
    "\n",
    "Например:"
   ]
  },
  {
   "cell_type": "code",
   "execution_count": null,
   "metadata": {},
   "outputs": [],
   "source": [
    "''' \n",
    "    Вывод на консоль\n",
    "    сообщения Hello World\n",
    "'''\n",
    "\"\"\" \n",
    "    Вывод на консоль\n",
    "    сообщения Hello World\n",
    "\"\"\"\n",
    "print(\"Hello World\")"
   ]
  }
 ],
 "metadata": {
  "kernelspec": {
   "display_name": ".venv",
   "language": "python",
   "name": "python3"
  },
  "language_info": {
   "codemirror_mode": {
    "name": "ipython",
    "version": 3
   },
   "file_extension": ".py",
   "mimetype": "text/x-python",
   "name": "python",
   "nbconvert_exporter": "python",
   "pygments_lexer": "ipython3",
   "version": "3.12.4"
  }
 },
 "nbformat": 4,
 "nbformat_minor": 2
}

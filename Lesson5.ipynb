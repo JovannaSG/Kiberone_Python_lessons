{
 "cells": [
  {
   "cell_type": "markdown",
   "metadata": {},
   "source": [
    "### Разминка"
   ]
  },
  {
   "cell_type": "markdown",
   "metadata": {},
   "source": [
    "#### Задача 1"
   ]
  },
  {
   "cell_type": "markdown",
   "metadata": {},
   "source": [
    "Создайте список из имен-строк. Затем добавьте в этот список два новых имени и удалите последнее имя. Выведите финальный список на консоль.\n",
    "\n",
    "<details>\n",
    "<summary>Ответ</summary>\n",
    "names: list[str] = [\"Tom\", \"Bob\", \"Sam\"]\n",
    "names.append(\"Alice\")\n",
    "names.append(\"Kate\")\n",
    "names.remove(\"Kate\")\n",
    "print(names)\n",
    "</details>"
   ]
  },
  {
   "cell_type": "code",
   "execution_count": null,
   "metadata": {},
   "outputs": [],
   "source": []
  },
  {
   "cell_type": "markdown",
   "metadata": {},
   "source": [
    "#### Задача 2"
   ]
  },
  {
   "cell_type": "markdown",
   "metadata": {},
   "source": [
    "Напишите программу, которая располагает элементы списка в обратном порядке.\n",
    "\n",
    "Пример работы:\n",
    "```\n",
    "Начальный список:  [1, 2, 3, 4, 5, 6, 7, 8, 9, 10]\n",
    "Список в обратном порядке:  [10, 9, 8, 7, 6, 5, 4, 3, 2, 1]\n",
    "```\n",
    "\n",
    "<details>\n",
    "<summary>Ответ</summary>\n",
    "numbers: list = [1, 2, 3, 4, 5, 6, 7, 8, 9, 10]\n",
    "print(numbers[::-1])\n",
    "\n",
    "numbers2: list = [1, 2, 3, 4, 5, 6, 7, 8, 9, 10]\n",
    "numbers2.reverse()\n",
    "print(numbers2)\n",
    "</details>"
   ]
  },
  {
   "cell_type": "code",
   "execution_count": null,
   "metadata": {},
   "outputs": [],
   "source": []
  },
  {
   "cell_type": "markdown",
   "metadata": {},
   "source": [
    "### Функции"
   ]
  },
  {
   "cell_type": "markdown",
   "metadata": {},
   "source": [
    "Главные причины применения функций в Python:\n",
    "1. Изолирование блоков кода.\n",
    "2. Исключение повторного написания программных строк (принцип **Don't repeat yourself, Не повторяйся**)."
   ]
  },
  {
   "cell_type": "markdown",
   "metadata": {},
   "source": [
    "Функция - подпрограмма в программе\n",
    "\n",
    "Функции представляют `блок кода`, который выполняет определенную задачу и который можно повторно использовать в других частях программы. На предыдущих уроках мы уже использовали функции. В частности, функция print(), которая выводит некоторое значение на консоль. Python имеет множество встроенных функций и позволяет определять свои функции.\n",
    "\n",
    "**Простым языком** вы пишете блок кода который потом просто вставляетс в место вызова функции и выполняется, помогает не плодить много одинаковых участков кода\n",
    "\n",
    "Формальное определение функции:\n",
    "```\n",
    "def имя_функции ([параметры]) -> Возвращаемый тип:\n",
    "    инструкции\n",
    "```\n",
    "Возвращаемый тип необязательно указывать, здесь также как и с типом переменных\n",
    "\n",
    "Определение функции начинается с выражения `def`, которое состоит из `имени функции`, `набора скобок с параметрами` и `двоеточия`. `Параметры в скобках необязательны`. А `со следующей строки` идет `блок инструкций`, которые `выполняет функция`. Все `инструкции` функции `имеют отступы` от начала строки.\n",
    "\n",
    "Например, определение функции:"
   ]
  },
  {
   "cell_type": "code",
   "execution_count": 3,
   "metadata": {},
   "outputs": [],
   "source": [
    "def say_hello() -> None:\n",
    "    print(\"Hello\")"
   ]
  },
  {
   "cell_type": "markdown",
   "metadata": {},
   "source": [
    "Для `вызова` функции указывается `имя функции`, после которого в `скобках` идет передача значений для всех ее `параметров`:\n",
    "```\n",
    "имя_функции ([параметры])\n",
    "```\n",
    "Обратите внимание, что функция сначала определяется, а потом вызывается."
   ]
  },
  {
   "cell_type": "code",
   "execution_count": 5,
   "metadata": {},
   "outputs": [
    {
     "name": "stdout",
     "output_type": "stream",
     "text": [
      "Hello\n",
      "Hello\n",
      "Hello\n"
     ]
    }
   ],
   "source": [
    "# определение функции say_hello\n",
    "def say_hello() -> None:\n",
    "    print(\"Hello\")\n",
    "\n",
    "\n",
    "# вызов функции say_hello\n",
    "say_hello()\n",
    "say_hello()\n",
    "say_hello()"
   ]
  },
  {
   "cell_type": "markdown",
   "metadata": {},
   "source": [
    "Функция может принимать параметры. Через параметры в функцию можно передавать данные. Банальный пример - функция print(), которая с помощью параметра принимает значение, выводимое на консоль."
   ]
  },
  {
   "cell_type": "code",
   "execution_count": 2,
   "metadata": {},
   "outputs": [
    {
     "name": "stdout",
     "output_type": "stream",
     "text": [
      "Hello, Tom\n",
      "Hello, Bob\n",
      "Hello, Alice\n"
     ]
    }
   ],
   "source": [
    "def say_hello(name: str) -> None:\n",
    "    print(f\"Hello, {name}\")\n",
    " \n",
    "say_hello(\"Tom\")\n",
    "say_hello(\"Bob\")\n",
    "say_hello(\"Alice\")"
   ]
  },
  {
   "cell_type": "markdown",
   "metadata": {},
   "source": [
    "При вызове функции значения передаются параметрам по позиции. Например, определим и вызовем функцию с несколькими параметрами:"
   ]
  },
  {
   "cell_type": "code",
   "execution_count": 10,
   "metadata": {},
   "outputs": [
    {
     "name": "stdout",
     "output_type": "stream",
     "text": [
      "Name: Tom\n",
      "Age: 37\n"
     ]
    }
   ],
   "source": [
    "def print_person(name: str, age: int) -> None:\n",
    "    print(f\"Name: {name}\")\n",
    "    print(f\"Age: {age}\")\n",
    "\n",
    "\n",
    "print_person(\"Tom\", 37)"
   ]
  },
  {
   "cell_type": "markdown",
   "metadata": {},
   "source": [
    "А что будет если написать `print_person(37, \"Tom\")`, а не `print_person(\"Tom\", 37)`?"
   ]
  },
  {
   "cell_type": "markdown",
   "metadata": {},
   "source": [
    "#### Задача 1"
   ]
  },
  {
   "cell_type": "markdown",
   "metadata": {},
   "source": [
    "Напишите функцию, которая выводит в консоль сумму двух чисел"
   ]
  },
  {
   "cell_type": "code",
   "execution_count": null,
   "metadata": {},
   "outputs": [],
   "source": [
    "def sum(a: int, b: int) -> None:\n",
    "    pass"
   ]
  },
  {
   "cell_type": "markdown",
   "metadata": {},
   "source": [
    "### Оператор return и возвращение результата из функции"
   ]
  },
  {
   "cell_type": "markdown",
   "metadata": {},
   "source": [
    "Функция может `возвращать` результат (можно даже сказать, что функция может быть чему то равна). Для этого в функции используется `оператор return`, после которого указывается `возвращаемое значение`:\n",
    "```\n",
    "def имя_функции ([параметры]) -> Возвращаемый тип:\n",
    "    инструкции\n",
    "    return возвращаемое_значение\n",
    "```\n",
    "Определим функцию, которая возвращает значение, равное сумме двух чисел:"
   ]
  },
  {
   "cell_type": "code",
   "execution_count": 4,
   "metadata": {},
   "outputs": [
    {
     "name": "stdout",
     "output_type": "stream",
     "text": [
      "Возвращаемое значение функции: 7\n",
      "Возвращаемое значение сохраненное в переменную 11\n"
     ]
    }
   ],
   "source": [
    "def sum(a: int, b: int) -> int:\n",
    "    return a + b\n",
    "print(\"Возвращаемое значение функции:\", sum(3, 4))\n",
    "\n",
    "s: int = sum(5, 6)\n",
    "print(\"Возвращаемое значение сохраненное в переменную\", s)"
   ]
  },
  {
   "cell_type": "markdown",
   "metadata": {},
   "source": [
    "#### Задача 1"
   ]
  },
  {
   "cell_type": "markdown",
   "metadata": {},
   "source": [
    "Написать функцию которая возвращает форматированную (`f`) строку (`str`) с логином и паролем, логин и пароль являтся параметрами функциями"
   ]
  },
  {
   "cell_type": "code",
   "execution_count": null,
   "metadata": {},
   "outputs": [],
   "source": []
  },
  {
   "cell_type": "markdown",
   "metadata": {},
   "source": [
    "#### Задача 2"
   ]
  },
  {
   "cell_type": "markdown",
   "metadata": {},
   "source": [
    "Напишите функцию `sum_range(start: int, end: int) -> int`, которая суммирует все целые числа от значения **«start»** до величины **«end»** включительно. Переменную с суммой вернуть из функции, использовать **return**\n",
    "\n",
    "**start < end**\n",
    "\n",
    "<details>\n",
    "<summary>Ответ</summary>\n",
    "def sum_of_range(start: int, end: int) -> int:\n",
    "    sum: int = 0\n",
    "    for i in range(start, end + 1):\n",
    "        sum += i\n",
    "    return sum\n",
    "print(sum_of_range(2, 3))\n",
    "</details>"
   ]
  },
  {
   "cell_type": "code",
   "execution_count": null,
   "metadata": {},
   "outputs": [],
   "source": []
  },
  {
   "cell_type": "markdown",
   "metadata": {},
   "source": [
    "### lambda выражения"
   ]
  },
  {
   "cell_type": "markdown",
   "metadata": {},
   "source": [
    "Лямбда-выражения в языке Python представляют небольшие анонимные функции, которые определяются с помощью оператора lambda. Формальное определение лямбда-выражения:\n",
    "```\n",
    "lambda [параметры] : инструкция\n",
    "```"
   ]
  },
  {
   "cell_type": "markdown",
   "metadata": {},
   "source": [
    "Если лямбда-выражение имеет параметры, то они определяются после ключевого слова lambda. Если лямбда-выражение возвращает какой-то результат, то он указывается после двоеточия. Например, определим лямбда-выражение, которое возвращает квадрат числа:"
   ]
  },
  {
   "cell_type": "code",
   "execution_count": 8,
   "metadata": {},
   "outputs": [
    {
     "name": "stdout",
     "output_type": "stream",
     "text": [
      "16\n",
      "25\n"
     ]
    }
   ],
   "source": [
    "square = lambda n: n * n\n",
    "\n",
    "print(square(4))  # 16\n",
    "print(square(5))  # 25"
   ]
  },
  {
   "cell_type": "markdown",
   "metadata": {},
   "source": [
    "Хотя лямбда-выражения позволяют немного сократить определения функций, тем не менее они ограничены тем, что они могут выполнять только одно выражение. Однако они могут быть довольно удобны в тех случаях, когда необходимо использовать функцию для передачи в качестве параметра или возвращения в другой функции. Например, передача лямбда-выражения в качестве параметра:"
   ]
  },
  {
   "cell_type": "markdown",
   "metadata": {},
   "source": [
    "### Вопросы по уроку"
   ]
  },
  {
   "cell_type": "markdown",
   "metadata": {},
   "source": [
    "1. Что такое функция?\n",
    "2. Как мне написать функцию для умножения двух чисел?\n",
    "3. Для чего нужны функции?\n",
    "4. Как мне написать функцию, которая возвращает значение?\n",
    "5. В чем разница между lambda функцией и обычной функцией?"
   ]
  }
 ],
 "metadata": {
  "kernelspec": {
   "display_name": ".venv",
   "language": "python",
   "name": "python3"
  },
  "language_info": {
   "codemirror_mode": {
    "name": "ipython",
    "version": 3
   },
   "file_extension": ".py",
   "mimetype": "text/x-python",
   "name": "python",
   "nbconvert_exporter": "python",
   "pygments_lexer": "ipython3",
   "version": "3.12.4"
  }
 },
 "nbformat": 4,
 "nbformat_minor": 2
}

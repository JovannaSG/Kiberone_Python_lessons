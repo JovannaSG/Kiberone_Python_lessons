{
 "cells": [
  {
   "cell_type": "markdown",
   "metadata": {},
   "source": [
    "### Разминка"
   ]
  },
  {
   "cell_type": "markdown",
   "metadata": {},
   "source": [
    "#### Задача 1"
   ]
  },
  {
   "cell_type": "markdown",
   "metadata": {},
   "source": [
    "Создайте 3 переменных, `int`, `float` и `str`.\n",
    "Первым двум переменным нужно присвоить значение в коде.\n",
    "Третьей нужно присвоить значение через ввод с клавиатруы.\n",
    "Вывести в консоль содержимое всех трех переменных."
   ]
  },
  {
   "cell_type": "markdown",
   "metadata": {},
   "source": [
    "#### Задача 2"
   ]
  },
  {
   "cell_type": "markdown",
   "metadata": {},
   "source": [
    "Создать (`инициализировать`) две целочисленные переменные.\n",
    "Вывести в консоль результаты:\n",
    "\n",
    "Сложения переменных `+`\n",
    "\n",
    "Вычитания переменных `-`\n",
    "\n",
    "Деления переменных `/`\n",
    "\n",
    "Умножения переменных `*`"
   ]
  },
  {
   "cell_type": "markdown",
   "metadata": {},
   "source": [
    "### Оператор ветвления"
   ]
  },
  {
   "cell_type": "markdown",
   "metadata": {},
   "source": [
    "Аналогия с камнем на распутье, помогает создать условия для срабатывания какого-либо блока кода"
   ]
  },
  {
   "cell_type": "markdown",
   "metadata": {},
   "source": [
    "Полная конструкция\n",
    "\n",
    "```\n",
    "if <условие>:\n",
    "    блок кода\n",
    "elif <условие>:\n",
    "    блок кода\n",
    "...\n",
    "else:\n",
    "    блок кода\n",
    "```\n",
    "\n",
    "elif может быть сколько угодно"
   ]
  },
  {
   "cell_type": "markdown",
   "metadata": {},
   "source": [
    "Операторы сравнения\n",
    "\n",
    "* \\< - меньше\n",
    "* \\> - больше\n",
    "* == - равно "
   ]
  },
  {
   "cell_type": "code",
   "execution_count": null,
   "metadata": {},
   "outputs": [
    {
     "name": "stdout",
     "output_type": "stream",
     "text": [
      "b > a\n"
     ]
    }
   ],
   "source": [
    "a: int = 4\n",
    "b: int = 2\n",
    "\n",
    "if a < b:\n",
    "    print(\"a < b\")\n",
    "elif a == b:\n",
    "    print(\"a == b\")\n",
    "else:\n",
    "    print(\"b > a\")"
   ]
  },
  {
   "cell_type": "code",
   "execution_count": 5,
   "metadata": {},
   "outputs": [
    {
     "name": "stdout",
     "output_type": "stream",
     "text": [
      "Привет\n",
      "End\n"
     ]
    }
   ],
   "source": [
    "language = \"russian\"\n",
    "if language == \"english\":\n",
    "    print(\"Hello\")\n",
    "else:\n",
    "    print(\"Привет\")\n",
    "print(\"End\")"
   ]
  },
  {
   "cell_type": "markdown",
   "metadata": {},
   "source": [
    "### Тип str (строка)"
   ]
  },
  {
   "cell_type": "markdown",
   "metadata": {},
   "source": [
    "Тип str (string) - строка. Самый объемный по материалу тип данных.\n",
    "Он представляет собой последовательность символов, массив (список) символов."
   ]
  },
  {
   "cell_type": "markdown",
   "metadata": {},
   "source": [
    "Также в python есть много инструментов для форматирования строк, т.е. задать им определенный внешний вид.\n",
    "\n",
    "Строка может содержать ряд специальных символов - управляющих последовательностей или escape-последовательности. Некоторые из них:\n",
    "\n",
    "* `\\\\`: позволяет добавить внутрь строки слеш\n",
    "\n",
    "* `\\'`: позволяет добавить внутрь строки одинарную кавычку\n",
    "\n",
    "* `\\\"`: позволяет добавить внутрь строки двойную кавычку\n",
    "\n",
    "* `\\n`: осуществляет переход на новую строку\n",
    "\n",
    "* `\\t`: добавляет табуляцию (4 отступа)\n"
   ]
  },
  {
   "cell_type": "code",
   "execution_count": 1,
   "metadata": {},
   "outputs": [
    {
     "name": "stdout",
     "output_type": "stream",
     "text": [
      "Привет, \\ 'Герой'\n",
      "Привет, \"Герой\"\n",
      "Привет,\n",
      "'Герой'\n",
      "Привет, \t'Герой'\n"
     ]
    }
   ],
   "source": [
    "s1: str = \"Привет, \\\\ 'Герой'\"\n",
    "s2: str = \"Привет, \\\"Герой\\\"\"\n",
    "s3: str = \"Привет,\\n'Герой'\"\n",
    "s4: str = \"Привет, \\t'Герой'\"\n",
    "\n",
    "print(s1)\n",
    "print(s2)\n",
    "print(s3)\n",
    "print(s4)"
   ]
  },
  {
   "cell_type": "markdown",
   "metadata": {},
   "source": [
    "Теперь научимся вставлять значения переменных в строку\n",
    "\n",
    "Есть два способа вставить значение в строку:\n",
    "* Первый - с помощью f строки, `f\"\"`\n",
    "* Второй - с помощью метода `\"\".format()`\n",
    "\n",
    "В обоих случаях внутри строки место вставки обозначается фигурными скобками `{}`"
   ]
  },
  {
   "cell_type": "code",
   "execution_count": null,
   "metadata": {},
   "outputs": [
    {
     "name": "stdout",
     "output_type": "stream",
     "text": [
      "name: Tom\n",
      "age: 37\n"
     ]
    }
   ],
   "source": [
    "user_name = \"Tom\"\n",
    "user_age = 37\n",
    "user = f\"name: {user_name}\\nage: {user_age}\"\n",
    "print(user)"
   ]
  },
  {
   "cell_type": "code",
   "execution_count": null,
   "metadata": {},
   "outputs": [
    {
     "name": "stdout",
     "output_type": "stream",
     "text": [
      "name: Tom\n",
      "age: 37\n"
     ]
    }
   ],
   "source": [
    "user_name = \"Tom\"\n",
    "user_age = 37\n",
    "user = \"name: {}\\nage: {}\".format(user_name, user_age)\n",
    "print(user)"
   ]
  },
  {
   "cell_type": "markdown",
   "metadata": {},
   "source": [
    "Также есть операция конкатенации строк, склеивание строк."
   ]
  },
  {
   "cell_type": "code",
   "execution_count": null,
   "metadata": {},
   "outputs": [
    {
     "name": "stdout",
     "output_type": "stream",
     "text": [
      "ПриветПока\n"
     ]
    }
   ],
   "source": [
    "s1: str = \"Привет\"\n",
    "s2: str = \"Пока\"\n",
    "print(s1 + s2)"
   ]
  },
  {
   "cell_type": "markdown",
   "metadata": {},
   "source": []
  },
  {
   "cell_type": "markdown",
   "metadata": {},
   "source": [
    "### Немного про метод внедрения своего кода с помощью \"инъекции\""
   ]
  },
  {
   "cell_type": "markdown",
   "metadata": {},
   "source": [
    "**Инъекция кода** — процесс введения своего кода в память чужого приложения с дальнейшим его выполнением.\n",
    "\n",
    "```\n",
    "user_input = input(\"Enter expression: \")\n",
    "result = eval(user_input)\n",
    "```\n",
    "\n",
    "В этом примере злоумышленник может ввести `__import__('os').system('any arbitrary command')` и выполнить произвольные команды ОС"
   ]
  },
  {
   "cell_type": "code",
   "execution_count": null,
   "metadata": {},
   "outputs": [
    {
     "name": "stdout",
     "output_type": "stream",
     "text": [
      "2\n"
     ]
    }
   ],
   "source": [
    "print(eval(\"1 + 1\"))"
   ]
  },
  {
   "cell_type": "markdown",
   "metadata": {},
   "source": [
    "### Основные методы строк"
   ]
  },
  {
   "cell_type": "markdown",
   "metadata": {},
   "source": [
    "Рассмотрим основные методы строк, которые мы можем применить в приложениях:\n",
    "* `lower()`: переводит строку в нижний регистр\n",
    "* `upper()`: переводит строку в вехний регистр\n",
    "* `find()`: поиск в строке\n",
    "    * `find(str)`: поиск подстроки str ведется с начала строки до ее конца\n",
    "    * `find(str, start)`: параметр start задает начальный индекс, с которого будет производиться поиск\n",
    "    * `find(str, start, end)`: параметр end задает конечный индекс, до которого будет идти поиск\n",
    "* `replace()`: замена в строке одной подстроки на другую\n",
    "    * `replace(old, new)`: заменяет подстроку old на new\n",
    "    * `replace(old, new, num)`: параметр num указывает, сколько вхождений подстроки old надо заменить на new. По умолчанию num равно -1, что соответствует первой версии метода и приводит к замене всех вхождений."
   ]
  },
  {
   "cell_type": "markdown",
   "metadata": {},
   "source": [
    "### Задачи"
   ]
  },
  {
   "cell_type": "markdown",
   "metadata": {},
   "source": [
    "#### 1 задача"
   ]
  },
  {
   "cell_type": "markdown",
   "metadata": {},
   "source": [
    "Задача взята из ОГЭ\n",
    "\n",
    "Построчно скажите, что делает программа"
   ]
  },
  {
   "cell_type": "code",
   "execution_count": null,
   "metadata": {},
   "outputs": [],
   "source": [
    "s = int(input())\n",
    "k = int(input())\n",
    "if  s >= 2 * k:\n",
    "    print(\"ДА\")\n",
    "else:\n",
    "    print(\"НЕТ\")"
   ]
  },
  {
   "cell_type": "markdown",
   "metadata": {},
   "source": [
    "Было проведено 3 запуска программы, при которых в качестве значений переменных s и k вводились следующие пары чисел:\n",
    "\n",
    "(1, 2) (8, 4) (6, −12)\n",
    "\n",
    "Сколько было запусков, при которых программа напечатала «ДА»?\n",
    "\n",
    "<details>\n",
    "  <summary>Ответ</summary>\n",
    "  2 раза\n",
    "</details>"
   ]
  },
  {
   "cell_type": "markdown",
   "metadata": {},
   "source": [
    "#### 2 Задача"
   ]
  },
  {
   "cell_type": "markdown",
   "metadata": {},
   "source": [
    "Построчно скажите, что делает программа"
   ]
  },
  {
   "cell_type": "code",
   "execution_count": null,
   "metadata": {},
   "outputs": [],
   "source": [
    "s = int(input())\n",
    "t = int(input())\n",
    "if s > 12 or t > 12:\n",
    "    print(\"ДА\")\n",
    "else:\n",
    "    print(\"НЕТ\")"
   ]
  },
  {
   "cell_type": "markdown",
   "metadata": {},
   "source": [
    "Было проведено 3 запуска программы, при которых в качестве значений переменных s и t вводились следующие пары чисел"
   ]
  },
  {
   "cell_type": "markdown",
   "metadata": {},
   "source": [
    "Было проведено 3 запуска программы, при которых в качестве значений переменных s и k вводились следующие пары чисел:\n",
    "\n",
    "(1, 13) (14, 2) (1, 12)\n",
    "\n",
    "Сколько было запусков, при которых программа напечатала «ДА»?\n",
    "\n",
    "<details>\n",
    "  <summary>Ответ</summary>\n",
    "  2 раза\n",
    "</details>"
   ]
  },
  {
   "cell_type": "markdown",
   "metadata": {},
   "source": [
    "#### Задача 3"
   ]
  },
  {
   "cell_type": "markdown",
   "metadata": {},
   "source": [
    "Задача поиска строки `\"abc\"` в строке `\"Hello world ABC, no abc\"`.\n",
    "\n",
    "<details>\n",
    "<summary>Ответ</summary>\n",
    "<code>\n",
    "s: str = \"Hello world ABC, no abc\"\n",
    "print(s.find(\"abc\"))\n",
    "</code>\n",
    "</details>"
   ]
  },
  {
   "cell_type": "code",
   "execution_count": null,
   "metadata": {},
   "outputs": [],
   "source": []
  },
  {
   "cell_type": "markdown",
   "metadata": {},
   "source": [
    "### Вопросы по уроку"
   ]
  },
  {
   "cell_type": "markdown",
   "metadata": {},
   "source": [
    "1. Для чего нужен оператор ветвления?\n",
    "2. Как мне написать оператор ветвления?\n",
    "3. Что такое форматирование строк?\n",
    "4. Как мне задать формат строки?\n",
    "5. Что такое конкатенация (склеивание) строк?\n",
    "6. Как выглядить полная конструкция полного оператора ветвления?"
   ]
  }
 ],
 "metadata": {
  "kernelspec": {
   "display_name": ".venv",
   "language": "python",
   "name": "python3"
  },
  "language_info": {
   "codemirror_mode": {
    "name": "ipython",
    "version": 3
   },
   "file_extension": ".py",
   "mimetype": "text/x-python",
   "name": "python",
   "nbconvert_exporter": "python",
   "pygments_lexer": "ipython3",
   "version": "3.12.4"
  }
 },
 "nbformat": 4,
 "nbformat_minor": 2
}

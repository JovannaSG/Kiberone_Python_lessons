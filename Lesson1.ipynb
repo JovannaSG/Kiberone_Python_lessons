{
 "cells": [
  {
   "cell_type": "markdown",
   "metadata": {},
   "source": [
    "### Переменные"
   ]
  },
  {
   "cell_type": "markdown",
   "metadata": {},
   "source": [
    "Переменные предназначены для хранения данных.\n",
    "\n",
    "ОЗУ можно представить как шкаф, в котором очень много выдвигаемых полочек, каждая полочка подписана (имеет имя) и хранит какое-то значение.\n",
    "\n",
    "= - оператор присваивания"
   ]
  },
  {
   "attachments": {
    "orig.gif": {
     "image/gif": "[encoded data removed]"
    }
   },
   "cell_type": "markdown",
   "metadata": {},
   "source": [
    "![orig.gif](attachment:orig.gif)"
   ]
  },
  {
   "cell_type": "code",
   "execution_count": 1,
   "metadata": {},
   "outputs": [
    {
     "name": "stdout",
     "output_type": "stream",
     "text": [
      "Tom\n",
      "John\n"
     ]
    }
   ],
   "source": [
    "name: str = \"Tom\"\n",
    "Name: str = \"John\"\n",
    "\n",
    "print(name)\n",
    "print(Name)"
   ]
  },
  {
   "cell_type": "markdown",
   "metadata": {},
   "source": [
    "#### Типы данных"
   ]
  },
  {
   "cell_type": "markdown",
   "metadata": {},
   "source": [
    "* bool - логический тип данных (True, False)\n",
    "* int - целые числа (2, 4, -223, 10987)\n",
    "* float - вещественные числа (1.23, -555.124215)\n",
    "* str - строка (\"abc\", 'Hello', \"44\")"
   ]
  },
  {
   "cell_type": "markdown",
   "metadata": {},
   "source": [
    "#### Тип int"
   ]
  },
  {
   "cell_type": "markdown",
   "metadata": {},
   "source": [
    "В python есть динамическая типизация, поэтому писать тип переменной не обязательно"
   ]
  },
  {
   "cell_type": "markdown",
   "metadata": {},
   "source": [
    "Арифметические операции с числами:\n",
    "\n",
    "- \\+ - сложение\n",
    "- \\- - вычитание\n",
    "- \\* - умножение\n",
    "- \\/ - деление\n",
    "- \\// - целочисленное деление\n",
    "- \\% - получение остатка от деления\n",
    "- \\** - возведение в степень"
   ]
  },
  {
   "cell_type": "code",
   "execution_count": null,
   "metadata": {},
   "outputs": [
    {
     "name": "stdout",
     "output_type": "stream",
     "text": [
      "24\n",
      "2\n",
      "10\n",
      "1.5\n",
      "1\n",
      "2\n",
      "1296\n"
     ]
    }
   ],
   "source": [
    "a: int = 6\n",
    "b = 4  # b: int\n",
    "\n",
    "print(a * b)\n",
    "print(a - b)\n",
    "print(a + b)\n",
    "print(a / b)\n",
    "print(a // b)\n",
    "print(a % b)\n",
    "print(a ** b)"
   ]
  },
  {
   "cell_type": "code",
   "execution_count": 6,
   "metadata": {},
   "outputs": [
    {
     "name": "stdout",
     "output_type": "stream",
     "text": [
      "25.200000000000003\n",
      "1.7999999999999998\n",
      "10.2\n",
      "1.4285714285714286\n",
      "1.0\n",
      "1.7999999999999998\n",
      "1854.5359291124116\n"
     ]
    }
   ],
   "source": [
    "a: float = 6.0\n",
    "b = 4.2\n",
    "\n",
    "print(a * b)\n",
    "print(a - b)\n",
    "print(a + b)\n",
    "print(a / b)\n",
    "print(a // b)\n",
    "print(a % b)\n",
    "print(a ** b)"
   ]
  },
  {
   "cell_type": "markdown",
   "metadata": {},
   "source": [
    "### Как узнать тип данных, хранящихся в переменных?"
   ]
  },
  {
   "cell_type": "markdown",
   "metadata": {},
   "source": [
    "Для того, чтобы узнать тип переменной используется метод (команда) `type()`"
   ]
  },
  {
   "cell_type": "code",
   "execution_count": 6,
   "metadata": {},
   "outputs": [
    {
     "name": "stdout",
     "output_type": "stream",
     "text": [
      "<class 'int'>\n",
      "<class 'float'>\n",
      "<class 'str'>\n"
     ]
    }
   ],
   "source": [
    "a = 4\n",
    "b = 3.4\n",
    "c = \"avc\"\n",
    "\n",
    "print(type(a))\n",
    "print(type(b))\n",
    "print(type(c))"
   ]
  },
  {
   "cell_type": "markdown",
   "metadata": {},
   "source": [
    "### Консольный ввод и вывод"
   ]
  },
  {
   "cell_type": "markdown",
   "metadata": {},
   "source": [
    "Вывод в консоль.\n",
    "\n",
    "Мы уже ранее использовади с вами метод (команду) `print()`, которая выводила на экран содержимое переменных и результаты арифметических операций. Важно понимать, что `print()` все преобразует в строки (str).\n",
    "\n",
    "Консольный ввод (ввод с клавиатуры)\n",
    "\n",
    "Для ввода значений с клавиатуры используется метод (команда) `input()`. Здесь тоже есть нюанс, все что вы введете в консоль, становится `str` (строкой)."
   ]
  },
  {
   "cell_type": "code",
   "execution_count": 2,
   "metadata": {},
   "outputs": [
    {
     "name": "stdout",
     "output_type": "stream",
     "text": [
      "Введите любое значение:\n",
      "asdasd <class 'str'>\n",
      "1 <class 'int'>\n",
      "2.3 <class 'float'>\n"
     ]
    }
   ],
   "source": [
    "print(\"Введите любое значение:\")\n",
    "input_value: str = input()\n",
    "\n",
    "a: int = int(input(\"Введите число а (int): \"))\n",
    "b: float = float(input(\"Введите число b (float): \"))\n",
    "\n",
    "print(input_value, type(input_value))\n",
    "print(a, type(a))\n",
    "print(b, type(b))"
   ]
  },
  {
   "cell_type": "markdown",
   "metadata": {},
   "source": [
    "### Параметр end в print()"
   ]
  },
  {
   "cell_type": "markdown",
   "metadata": {},
   "source": [
    "### Вопросы по уроку"
   ]
  },
  {
   "cell_type": "markdown",
   "metadata": {},
   "source": [
    "1. С какими типами данных мы познакомились?\n",
    "2. Какие ключевые слова в python вы запомнили?\n",
    "3. Что такое переменная?\n",
    "4. Какой метод (команду) нужно использовать для ввода значений с клавиатуры?\n",
    "5. Какой метод (команду) нужно использовать для вывода информации, значений переменных в консоль?"
   ]
  }
 ],
 "metadata": {
  "kernelspec": {
   "display_name": "Python 3",
   "language": "python",
   "name": "python3"
  },
  "language_info": {
   "codemirror_mode": {
    "name": "ipython",
    "version": 3
   },
   "file_extension": ".py",
   "mimetype": "text/x-python",
   "name": "python",
   "nbconvert_exporter": "python",
   "pygments_lexer": "ipython3",
   "version": "3.12.4"
  }
 },
 "nbformat": 4,
 "nbformat_minor": 2
}

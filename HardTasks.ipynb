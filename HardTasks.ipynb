{
 "cells": [
  {
   "cell_type": "markdown",
   "metadata": {},
   "source": [
    "### Все вхождения подстроки в строку \n",
    "Напишите программу, которая находит все вхождения подстроки в строку. Строка и подстрока вводятся с клавиатуры.\n",
    "\n",
    "<details>\n",
    "<summary>Ответ</summary>\n",
    "<code>\n",
    "s: str = input(\"Введите строку: \")\n",
    "substring: str = input(\"Введите подстроку: \")\n",
    "\n",
    "positions: list = []\n",
    "pos = s.find(substring)\n",
    "while pos != -1:\n",
    "    positions.append(pos)\n",
    "    pos = s.find(substring, pos + 1)\n",
    "\n",
    "print(positions)\n",
    "</code>\n",
    "</details>"
   ]
  },
  {
   "cell_type": "code",
   "execution_count": null,
   "metadata": {},
   "outputs": [],
   "source": []
  },
  {
   "cell_type": "markdown",
   "metadata": {},
   "source": [
    "### Найти два максимума в массиве"
   ]
  },
  {
   "cell_type": "markdown",
   "metadata": {},
   "source": [
    "Напишите программу, которая находит и выводит на экран два максимума в массиве целых чисел. Без сортировки массива.\n",
    "\n",
    "<details>\n",
    "<summary>Ответ</summary>\n",
    "<code>\n",
    "</code>\n",
    "</details>"
   ]
  },
  {
   "cell_type": "code",
   "execution_count": 30,
   "metadata": {},
   "outputs": [
    {
     "name": "stdout",
     "output_type": "stream",
     "text": [
      "12 12\n"
     ]
    }
   ],
   "source": [
    "numbers: list[int] = [12, 2, 5, 7, 1]\n",
    "max1: int = numbers[0]\n",
    "max2: int = numbers[0]\n",
    "for number in numbers:\n",
    "    if number > max1:\n",
    "        max2 = max1\n",
    "        max1 = number\n",
    "    elif number > max2:\n",
    "        max2 = number\n",
    "print(max1, max2)"
   ]
  },
  {
   "cell_type": "markdown",
   "metadata": {},
   "source": [
    "### Найти два минимума в массиве"
   ]
  },
  {
   "cell_type": "markdown",
   "metadata": {},
   "source": [
    "Напишите программу, которая находит и выводит на экран два максимума в массиве целых чисел. Без сортировки массива.\n",
    "\n",
    "<details>\n",
    "<summary>Ответ</summary>\n",
    "<code>\n",
    "</code>\n",
    "</details>"
   ]
  },
  {
   "cell_type": "code",
   "execution_count": 25,
   "metadata": {},
   "outputs": [
    {
     "name": "stdout",
     "output_type": "stream",
     "text": [
      "1 1\n"
     ]
    }
   ],
   "source": [
    "numbers: list[int] = [1, 2, 5, 7, 12]\n",
    "min1: int = numbers[0]\n",
    "min2: int = numbers[0]\n",
    "for number in numbers:\n",
    "    if min1 > number:\n",
    "        min2 = min1\n",
    "        min1 = number\n",
    "    elif min2 > number:\n",
    "        min2 = number\n",
    "print(min1, min2)"
   ]
  }
 ],
 "metadata": {
  "kernelspec": {
   "display_name": ".venv",
   "language": "python",
   "name": "python3"
  },
  "language_info": {
   "codemirror_mode": {
    "name": "ipython",
    "version": 3
   },
   "file_extension": ".py",
   "mimetype": "text/x-python",
   "name": "python",
   "nbconvert_exporter": "python",
   "pygments_lexer": "ipython3",
   "version": "3.12.4"
  }
 },
 "nbformat": 4,
 "nbformat_minor": 2
}
